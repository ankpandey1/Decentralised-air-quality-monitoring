{
 "cells": [
  {
   "cell_type": "markdown",
   "metadata": {},
   "source": [
    "# Importing necessary Libraries"
   ]
  },
  {
   "cell_type": "code",
   "execution_count": 1,
   "metadata": {},
   "outputs": [],
   "source": [
    "import pandas as pd\n",
    "import numpy as np\n",
    "import seaborn as sns\n",
    "import matplotlib.pyplot as plt\n",
    "import miceforest as mf\n",
    "from sklearn.impute import SimpleImputer"
   ]
  },
  {
   "cell_type": "markdown",
   "metadata": {},
   "source": [
    "# MICE(Random Forest)"
   ]
  },
  {
   "cell_type": "code",
   "execution_count": null,
   "metadata": {},
   "outputs": [],
   "source": [
    "def mice_forest(merged):\n",
    "    \n",
    "    pm10 = df_columns_to_impute(merged)\n",
    "    # Create kernels. \n",
    "    kernel = mf.MultipleImputedKernel(pm10,\n",
    "                                      save_all_iterations=True,\n",
    "                                  random_state=1987)\n",
    "    kernel.mice(3)\n",
    "    pm10 = kernel.complete_data(2)\n",
    "    visualize_imputed(kernel)\n",
    "    print_accuracy(kernel, pm10)\n",
    "    merged = merge_to_merged_csv(pm10, merged)\n",
    "    return(merged)\n",
    "\n",
    "\n"
   ]
  },
  {
   "cell_type": "code",
   "execution_count": null,
   "metadata": {},
   "outputs": [],
   "source": [
    "#Visualises the imputed data\n",
    "\n",
    "def visualize_imputed(kernel):\n",
    "    \n",
    "    # Density Distribution of imputed variables against original distribution\n",
    "    kernel.plot_imputed_distributions(wspace=0.3,hspace=0.3)\n",
    "    \n",
    "    # Correlation box plot\n",
    "    kernel.plot_correlations()\n",
    "    kernel.plot_feature_importance(annot=True,cmap=\"YlGnBu\",vmin=0, vmax=1)\n",
    "    \n",
    "    # Convergence plot of al the imputed variables\n",
    "    kernel.plot_mean_convergence(wspace=0.3, hspace=0.4)\n",
    "    "
   ]
  },
  {
   "cell_type": "code",
   "execution_count": null,
   "metadata": {},
   "outputs": [],
   "source": [
    "#Prints accuracy of the imputed variable set\n",
    "\n",
    "def print_accuracy(kernel, pm10):\n",
    "    acclist = []\n",
    "    for iteration in range(kernel.iteration_count()+1):\n",
    "        target_na_count = kernel.na_counts['PM2.5']\n",
    "        compdat = kernel.complete_data(dataset=2,iteration=iteration)\n",
    "\n",
    "        # Record the accuract of the imputations of target.\n",
    "        acclist.append(\n",
    "          round(1-sum(compdat['PM2.5'] != pm10['PM2.5'])/target_na_count,2)\n",
    "        )\n",
    "\n",
    "    # acclist shows the accuracy of the imputations\n",
    "    # over the iterations.\n",
    "    print(acclist)"
   ]
  },
  {
   "cell_type": "markdown",
   "metadata": {},
   "source": [
    "# Using simple imputer with mean strategy"
   ]
  },
  {
   "cell_type": "code",
   "execution_count": null,
   "metadata": {},
   "outputs": [],
   "source": [
    "def simple_imputer(merged):\n",
    "\n",
    "    pm10 = df_columns_to_impute(merged)\n",
    "    impNumeric = SimpleImputer(missing_values=np.nan, strategy='mean')\n",
    "    impNumeric = impNumeric.fit(pm10)\n",
    "    pm10 = pd.DataFrame(impNumeric.transform(pm10))\n",
    "    \n",
    "    merged = merge_to_merged_csv(pm10, merged)\n",
    "    "
   ]
  },
  {
   "cell_type": "markdown",
   "metadata": {},
   "source": [
    "# Substituting imputed values in the merged csv"
   ]
  },
  {
   "cell_type": "code",
   "execution_count": null,
   "metadata": {},
   "outputs": [],
   "source": [
    "def merge_to_merged_csv(pm10, merged):\n",
    "    merged['PM10'] = pm10['PM10']\n",
    "    merged['PM2.5'] = pm10['PM2.5']\n",
    "    merged['NO2'] = pm10['NO2']\n",
    "    merged['NOX as NO2'] = pm10['NOX as NO2']\n",
    "    return(merged)"
   ]
  },
  {
   "cell_type": "markdown",
   "metadata": {},
   "source": [
    "# Selecting columns to impute"
   ]
  },
  {
   "cell_type": "code",
   "execution_count": null,
   "metadata": {},
   "outputs": [],
   "source": [
    "def df_columns_to_impute(merged):\n",
    "    # TO check null values per column\n",
    "    null_columns=merged.columns[merged.isnull().any()]\n",
    "    print(\"Null Values per column\", merged[null_columns].isnull().sum())  \n",
    "    #Selecting columns with null values\n",
    "    selected_columns = merged[['PM10','PM2.5', 'NO2', 'NOX as NO2']]\n",
    "    return(selected_columns)\n"
   ]
  }
 ],
 "metadata": {
  "kernelspec": {
   "display_name": "Python 3",
   "language": "python",
   "name": "python3"
  },
  "language_info": {
   "codemirror_mode": {
    "name": "ipython",
    "version": 3
   },
   "file_extension": ".py",
   "mimetype": "text/x-python",
   "name": "python",
   "nbconvert_exporter": "python",
   "pygments_lexer": "ipython3",
   "version": "3.7.7"
  }
 },
 "nbformat": 4,
 "nbformat_minor": 4
}
